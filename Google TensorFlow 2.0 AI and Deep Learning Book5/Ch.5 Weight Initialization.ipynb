{
 "cells": [
  {
   "cell_type": "code",
   "execution_count": 1,
   "metadata": {},
   "outputs": [],
   "source": [
    "import warnings\n",
    "warnings.simplefilter(action='ignore', category=FutureWarning)\n",
    "import numpy as np\n",
    "import tensorflow as tf\n",
    "import matplotlib.pyplot as plt\n",
    "from tensorflow import keras\n",
    "from tensorflow.keras import layers\n",
    "from tensorflow.keras import initializers"
   ]
  },
  {
   "cell_type": "markdown",
   "metadata": {},
   "source": [
    "## Normal Distribuation"
   ]
  },
  {
   "cell_type": "code",
   "execution_count": 2,
   "metadata": {},
   "outputs": [],
   "source": [
    "inputs = keras.Input(shape=(100,))\n",
    "\n",
    "x1 = layers.Dense(100, 'sigmoid', False, initializers.RandomNormal(0, 1))(inputs)\n",
    "x2 = layers.Dense(100, 'sigmoid', False, initializers.RandomNormal(0, 1))(x1)\n",
    "x3 = layers.Dense(100, 'sigmoid', False, initializers.RandomNormal(0, 1))(x2)\n",
    "x4 = layers.Dense(100, 'sigmoid', False, initializers.RandomNormal(0, 1))(x3)\n",
    "x5 = layers.Dense(100, 'sigmoid', False, initializers.RandomNormal(0, 1))(x4)\n",
    "\n",
    "model_1 = keras.Model(inputs, [x1, x2, x3, x4, x5])"
   ]
  },
  {
   "cell_type": "code",
   "execution_count": 3,
   "metadata": {},
   "outputs": [
    {
     "data": {
      "image/png": "[encoded data removed]",
      "text/plain": [
       "<Figure size 432x288 with 5 Axes>"
      ]
     },
     "metadata": {
      "needs_background": "light"
     },
     "output_type": "display_data"
    }
   ],
   "source": [
    "x = np.random.randn(100, 100)\n",
    "outputs = model_1.predict(x)\n",
    "for i, layer_output in enumerate(outputs):\n",
    "    plt.subplot(1, 5, i+1)\n",
    "    plt.title(str(i+1) + '-layer')\n",
    "    if i != 0: plt.yticks([], [])\n",
    "    plt.hist(layer_output.flatten(), 30, range=[0, 1])\n",
    "plt.show()"
   ]
  },
  {
   "cell_type": "markdown",
   "metadata": {},
   "source": [
    "## Standard Deviation 0.01 Distribution"
   ]
  },
  {
   "cell_type": "code",
   "execution_count": 4,
   "metadata": {},
   "outputs": [],
   "source": [
    "inputs = keras.Input(shape=(100,))\n",
    "\n",
    "x1 = layers.Dense(100, 'sigmoid', False, initializers.RandomNormal(0, 0.01))(inputs)\n",
    "x2 = layers.Dense(100, 'sigmoid', False, initializers.RandomNormal(0, 0.01))(x1)\n",
    "x3 = layers.Dense(100, 'sigmoid', False, initializers.RandomNormal(0, 0.01))(x2)\n",
    "x4 = layers.Dense(100, 'sigmoid', False, initializers.RandomNormal(0, 0.01))(x3)\n",
    "x5 = layers.Dense(100, 'sigmoid', False, initializers.RandomNormal(0, 0.01))(x4)\n",
    "\n",
    "model_2 = keras.Model(inputs, [x1, x2, x3, x4, x5])"
   ]
  },
  {
   "cell_type": "code",
   "execution_count": 5,
   "metadata": {},
   "outputs": [
    {
     "data": {
      "image/png": "[encoded data removed]",
      "text/plain": [
       "<Figure size 432x288 with 5 Axes>"
      ]
     },
     "metadata": {
      "needs_background": "light"
     },
     "output_type": "display_data"
    }
   ],
   "source": [
    "x = np.random.randn(100, 100)\n",
    "outputs = model_2.predict(x)\n",
    "for i, layer_output in enumerate(outputs):\n",
    "    plt.subplot(1, 5, i+1)\n",
    "    plt.title(str(i+1) + '-layer')\n",
    "    if i != 0: plt.yticks([], [])\n",
    "    plt.hist(layer_output.flatten(), 30, range=[0, 1])\n",
    "plt.show()"
   ]
  },
  {
   "cell_type": "markdown",
   "metadata": {},
   "source": [
    "## Xavier / Glorot Initialization (Sigmoid activation function)"
   ]
  },
  {
   "cell_type": "code",
   "execution_count": 6,
   "metadata": {},
   "outputs": [],
   "source": [
    "inputs = keras.Input(shape=(100,))\n",
    "\n",
    "x1 = layers.Dense(100, 'sigmoid', False, initializers.glorot_normal())(inputs)\n",
    "x2 = layers.Dense(100, 'sigmoid', False, initializers.glorot_normal())(x1)\n",
    "x3 = layers.Dense(100, 'sigmoid', False, initializers.glorot_normal())(x2)\n",
    "x4 = layers.Dense(100, 'sigmoid', False, initializers.glorot_normal())(x3)\n",
    "x5 = layers.Dense(100, 'sigmoid', False, initializers.glorot_normal())(x4)\n",
    "\n",
    "model_3 = keras.Model(inputs, [x1, x2, x3, x4, x5])"
   ]
  },
  {
   "cell_type": "code",
   "execution_count": 7,
   "metadata": {},
   "outputs": [
    {
     "data": {
      "image/png": "[encoded data removed]",
      "text/plain": [
       "<Figure size 432x288 with 5 Axes>"
      ]
     },
     "metadata": {
      "needs_background": "light"
     },
     "output_type": "display_data"
    }
   ],
   "source": [
    "x = np.random.randn(100, 100)\n",
    "outputs = model_3.predict(x)\n",
    "for i, layer_output in enumerate(outputs):\n",
    "    plt.subplot(1, 5, i+1)\n",
    "    plt.title(str(i+1) + '-layer')\n",
    "    if i != 0: plt.yticks([], [])\n",
    "    plt.hist(layer_output.flatten(), 30, range=[0, 1])\n",
    "plt.show()"
   ]
  },
  {
   "cell_type": "markdown",
   "metadata": {},
   "source": [
    "## Xavier / Glorot Initialization (ReLU activation function)"
   ]
  },
  {
   "cell_type": "code",
   "execution_count": 8,
   "metadata": {},
   "outputs": [],
   "source": [
    "inputs = keras.Input(shape=(100,))\n",
    "\n",
    "x1 = layers.Dense(100, 'relu', False, initializers.glorot_normal())(inputs)\n",
    "x2 = layers.Dense(100, 'relu', False, initializers.glorot_normal())(x1)\n",
    "x3 = layers.Dense(100, 'relu', False, initializers.glorot_normal())(x2)\n",
    "x4 = layers.Dense(100, 'relu', False, initializers.glorot_normal())(x3)\n",
    "x5 = layers.Dense(100, 'relu', False, initializers.glorot_normal())(x4)\n",
    "\n",
    "model_4 = keras.Model(inputs, [x1, x2, x3, x4, x5])"
   ]
  },
  {
   "cell_type": "code",
   "execution_count": 10,
   "metadata": {},
   "outputs": [
    {
     "data": {
      "image/png": "[encoded data removed]",
      "text/plain": [
       "<Figure size 432x288 with 5 Axes>"
      ]
     },
     "metadata": {
      "needs_background": "light"
     },
     "output_type": "display_data"
    }
   ],
   "source": [
    "x = np.random.randn(100, 100)\n",
    "outputs = model_4.predict(x)\n",
    "for i, layer_output in enumerate(outputs):\n",
    "    plt.subplot(1, 5, i+1)\n",
    "    plt.title(str(i+1) + '-layer')\n",
    "    if i != 0: plt.yticks([], [])\n",
    "    plt.hist(layer_output.flatten(), 30, range=[0, 1])\n",
    "plt.show()"
   ]
  },
  {
   "cell_type": "markdown",
   "metadata": {},
   "source": [
    "## He Initialization (ReLU activation function)"
   ]
  },
  {
   "cell_type": "code",
   "execution_count": 11,
   "metadata": {},
   "outputs": [],
   "source": [
    "inputs = keras.Input(shape=(100,))\n",
    "\n",
    "x1 = layers.Dense(100, 'relu', False, initializers.he_normal())(inputs)\n",
    "x2 = layers.Dense(100, 'relu', False, initializers.he_normal())(x1)\n",
    "x3 = layers.Dense(100, 'relu', False, initializers.he_normal())(x2)\n",
    "x4 = layers.Dense(100, 'relu', False, initializers.he_normal())(x3)\n",
    "x5 = layers.Dense(100, 'relu', False, initializers.he_normal())(x4)\n",
    "\n",
    "model_5 = keras.Model(inputs, [x1, x2, x3, x4, x5])"
   ]
  },
  {
   "cell_type": "code",
   "execution_count": 12,
   "metadata": {},
   "outputs": [
    {
     "data": {
      "image/png": "[encoded data removed]",
      "text/plain": [
       "<Figure size 432x288 with 5 Axes>"
      ]
     },
     "metadata": {
      "needs_background": "light"
     },
     "output_type": "display_data"
    }
   ],
   "source": [
    "x = np.random.randn(100, 100)\n",
    "outputs = model_5.predict(x)\n",
    "for i, layer_output in enumerate(outputs):\n",
    "    plt.subplot(1, 5, i+1)\n",
    "    plt.title(str(i+1) + '-layer')\n",
    "    if i != 0: plt.yticks([], [])\n",
    "    plt.hist(layer_output.flatten(), 30, range=[0, 1])\n",
    "plt.show()"
   ]
  },
  {
   "cell_type": "code",
   "execution_count": null,
   "metadata": {},
   "outputs": [],
   "source": []
  }
 ],
 "metadata": {
  "kernelspec": {
   "display_name": "tf2",
   "language": "python",
   "name": "tf2"
  },
  "language_info": {
   "codemirror_mode": {
    "name": "ipython",
    "version": 3
   },
   "file_extension": ".py",
   "mimetype": "text/x-python",
   "name": "python",
   "nbconvert_exporter": "python",
   "pygments_lexer": "ipython3",
   "version": "3.6.5"
  }
 },
 "nbformat": 4,
 "nbformat_minor": 4
}
