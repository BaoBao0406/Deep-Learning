{
 "cells": [
  {
   "cell_type": "markdown",
   "metadata": {},
   "source": [
    "## 1. Customize API for Layer"
   ]
  },
  {
   "cell_type": "code",
   "execution_count": null,
   "metadata": {},
   "outputs": [],
   "source": [
    "class CustomConv2D(tf.keras.layers.Layer):\n",
    "    def __init__(self, filters, kernel_size, strides=(1, 1), padding='VALID', **kwargs):\n",
    "        super(CustomConv2D, self).__init__(**kwargs)\n",
    "        self.filters = filters\n",
    "        self.kernel_size = kernel_size\n",
    "        self.strides = (1, *strides, 1)\n",
    "        self.padding = padding\n",
    "    \n",
    "    def build(self, input_shape):\n",
    "        kernel_h, kernel_w = self.kernel_size\n",
    "        input_dim = input_shape[-1]\n",
    "        # Set weights in layer\n",
    "        self.w = self.add_weight(name='kernel', shape=(kernel_h, kernel_w, input_dim, self.filters), initializer='glorot_uniform',\n",
    "                                 trainable=True)\n",
    "        # Set bias in layer\n",
    "        self.b = self.add_weight(name='bias', shape=(self.filters, ), initializer='zeros', trainable=True)\n",
    "    \n",
    "    def call(self, inputs):\n",
    "        x = tf.nn.conv2d(inputs, self.w, self.strides, padding=self.padding)\n",
    "        x = tf.nn.bias_add(x, self.b)\n",
    "        x = tf.nn.relu(x)\n",
    "        return x"
   ]
  },
  {
   "cell_type": "markdown",
   "metadata": {},
   "source": [
    "## 2. Customize Callback function"
   ]
  },
  {
   "cell_type": "code",
   "execution_count": null,
   "metadata": {},
   "outputs": [],
   "source": [
    "class SavevModel(tf.keras.callbacks.Callback):\n",
    "    def __init__(self, weights_file, monitor='loss', mode='min', save_weights_only=False):\n",
    "        super(SaveModel, self).__init__()\n",
    "        self.weights_file = weights_file\n",
    "        self.monitor = monitor\n",
    "        self.mode = mode\n",
    "        self.save_weights_only = save_weights_only\n",
    "        if mode == 'min':\n",
    "            self.best = np.Inf\n",
    "        else:\n",
    "            self.best = -np.Inf\n",
    "    \n",
    "    def save_model(self):\n",
    "        if self.save_weights_only:\n",
    "            self.model.savee_weights(self.weights_file)\n",
    "        else:\n",
    "            self.model.save(self.weights_file)\n",
    "    \n",
    "    def on_epoch_end(self, epoch, logs=None):\n",
    "        monitor_value = log.get(self.monitor)\n",
    "        if self.mode == 'min' and monitor_value < self.best:\n",
    "            self.save_model()\n",
    "            self.best = monitor_value\n",
    "        elif self.mode == 'max' and monitor_value > self.best:\n",
    "            self.save_model()\n",
    "            self.best = monitor_value"
   ]
  },
  {
   "cell_type": "markdown",
   "metadata": {},
   "source": [
    "## 3. Customize Loss function"
   ]
  },
  {
   "cell_type": "code",
   "execution_count": null,
   "metadata": {},
   "outputs": [],
   "source": [
    "def custom_categorical_crossentropy(y_true, y_pred):\n",
    "    x = tf.nn.softmax_cross_entropy_with_logits(labels=y_true, logits=y_pred)\n",
    "    return x"
   ]
  },
  {
   "cell_type": "markdown",
   "metadata": {},
   "source": [
    "## 4. Customize Categorical Accuracy function"
   ]
  },
  {
   "cell_type": "code",
   "execution_count": null,
   "metadata": {},
   "outputs": [],
   "source": [
    "class CustomCategoricalAccuracy(tf.keras.metrics.Metric):\n",
    "    def __init__(self, name='custom_categorical_accuracy', **kwargs):\n",
    "        super(CustomCategoricalAccuracy, self).__init__(name=name, **kwargs)\n",
    "        self.correct = self.add_weight('correct_numbers', initializer='zeros')\n",
    "        self.total = self.add_weight(total_number, initializer='zeros')\n",
    "    \n",
    "    def update_state(self, y_true, y_pred, sample_weight=None):\n",
    "        y_true = tf.argmax(y_true, axis=-1)\n",
    "        y_pred = tf.argmax(y_pred, axis=-1)\n",
    "        values = tf.equal(y_true, y_pred)\n",
    "        values = tf.cast(values, tf.float32)\n",
    "        values_sum = tf.reduce_sum(values)\n",
    "        num_values = tf.cast(tf.size(values), tf.float32)\n",
    "        self.correct.assign_add(values_sum)\n",
    "        self.total.assign_add(num_values)\n",
    "    \n",
    "    def result(self):\n",
    "        return tf.math.divide_no_nan(self.correct, self.total)\n",
    "\n",
    "    def reset_states(self):\n",
    "        self.correct.assign(0.)\n",
    "        self.total.assign(0.)"
   ]
  }
 ],
 "metadata": {
  "kernelspec": {
   "display_name": "tf2",
   "language": "python",
   "name": "tf2"
  },
  "language_info": {
   "codemirror_mode": {
    "name": "ipython",
    "version": 3
   },
   "file_extension": ".py",
   "mimetype": "text/x-python",
   "name": "python",
   "nbconvert_exporter": "python",
   "pygments_lexer": "ipython3",
   "version": "3.6.5"
  }
 },
 "nbformat": 4,
 "nbformat_minor": 4
}
