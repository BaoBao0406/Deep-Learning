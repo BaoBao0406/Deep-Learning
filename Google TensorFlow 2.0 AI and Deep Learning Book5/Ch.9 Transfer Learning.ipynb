{
 "cells": [
  {
   "cell_type": "code",
   "execution_count": null,
   "metadata": {},
   "outputs": [],
   "source": [
    "import warnings\n",
    "warnings.simplefilter(action='ignore', category=FutureWarning)\n",
    "import os\n",
    "import io\n",
    "import numpy as np\n",
    "import tensorflow as tf\n",
    "import tensorflow_datasets as tfds\n",
    "import matplotlib.pyplot as plt\n",
    "from tensorflow import keras\n",
    "from tensorflow.keras import layers\n",
    "from preprocessing import flip, color, rotate, zoom"
   ]
  },
  {
   "cell_type": "code",
   "execution_count": null,
   "metadata": {},
   "outputs": [],
   "source": [
    "valid_data = tfds.load('cats_vs_dogs', split='train[:10%]')\n",
    "\n",
    "train_data, info = tfds.load('cats_vs_dogs', split='train[10%:100%]', with_info=True)\n",
    "\n",
    "test_data = tfds.load('cats_vs_dogs', split=tfds.Split.TEST)"
   ]
  },
  {
   "cell_type": "code",
   "execution_count": null,
   "metadata": {},
   "outputs": [],
   "source": [
    "print(info.features['label'].names)\n",
    "decoder = info.features['label'].names"
   ]
  },
  {
   "cell_type": "code",
   "execution_count": null,
   "metadata": {},
   "outputs": [],
   "source": [
    "for data in train_data.take(1):\n",
    "    img = data['image']\n",
    "    label = data['label']\n",
    "\n",
    "plt.title(decoder[label])\n",
    "plt.imshow(img)"
   ]
  },
  {
   "cell_type": "code",
   "execution_count": null,
   "metadata": {},
   "outputs": [],
   "source": [
    "input_shape = (299, 299)\n",
    "\n",
    "def parse_aug_fn(dataset):\n",
    "    x = tf.cast(dataset['image'], tf.float32) / 255.\n",
    "    x = tf.image.resize(x, input_shape)\n",
    "    \n",
    "    x = flip(x)\n",
    "    x = tf.cond(tf.random.uniform([], 0, 1) > 0.5, lambda: color(x), lambda: x)\n",
    "    x = tf.cond(tf.random.uniform([], 0, 1) > 0.75, lambda: rotate(x), lambda: x)\n",
    "    x = tf.cond(tf.random.uniform([], 0, 1) > 0.5, lambda: zoom(x), lambda: x)\n",
    "    \n",
    "    return x, dataset['label']\n",
    "\n",
    "def parse_fn(dataset):\n",
    "    x = tf.cast(dataset['image'], tf.float32) / 255.\n",
    "    x = tf.image.resize(x, input_shape)\n",
    "    \n",
    "    return x, dataset['label']"
   ]
  },
  {
   "cell_type": "code",
   "execution_count": null,
   "metadata": {},
   "outputs": [],
   "source": [
    "AUTOTUNE = tf.data.experimental.AUTOTUNE\n",
    "buffer_size = 1000\n",
    "batch_size = 64\n",
    "\n",
    "train_data = train_data.map(map_func=parse_aug_fn, num_parallel_calls=AUTOTUNE)\n",
    "train_data = train_data.shuffle(train_num)\n",
    "train_data = train_data.batch(batch_size).prefetch(buffer_size=AUTOTUNE)\n",
    "\n",
    "valid_data = valid_data.map(map_func=parse_fn, num_parallel_calls=AUTOTUNE)\n",
    "valid_data = valid_data.batch(batch_size).prefetch(buffer_size=AUTOTUNE)\n",
    "\n",
    "test_data = test_data.map(map_func=parse_fn, num_parallel_calls=AUTOTUNE)\n",
    "test_data = test_data.batch(batch_size).prefetch(buffer_size=AUTOTUNE)"
   ]
  },
  {
   "cell_type": "markdown",
   "metadata": {},
   "source": [
    "## Model 1"
   ]
  },
  {
   "cell_type": "code",
   "execution_count": null,
   "metadata": {},
   "outputs": [],
   "source": [
    "model_dir = 'lab9-logs/models'\n",
    "os.makedirs(model_dir)\n",
    "\n",
    "log_dir = os.path.join('lab9-logs', 'model-1')\n",
    "model_cbk = keras.callbacks.TensorBoard(log_dir=log_dir)\n",
    "model_esp = keras.callbacks.EarlyStopping(monitor='val_binary_accuracy', patience=30, mode='max')\n",
    "\n",
    "base_model = tf.keras.applications.InceptionsV3(include_top=False, weights=None, pooling='avg', input_shape=input_shape+(3,))\n",
    "\n",
    "model_1 = tf.keras.Sequential([base_model, \n",
    "                               layers.Dense(128, activation='relu'), \n",
    "                               layers.Dense(1, activation='sigmoid')])"
   ]
  },
  {
   "cell_type": "code",
   "execution_count": null,
   "metadata": {},
   "outputs": [],
   "source": [
    "model_1.summary()"
   ]
  },
  {
   "cell_type": "code",
   "execution_count": null,
   "metadata": {},
   "outputs": [],
   "source": [
    "model_1.compile(keras.optimizers.Adam(), loss=keras.losses.BinaryCrossentropy(), metrics=[keras.metrics.BinaryAccuracy()])\n",
    "\n",
    "history = model_1.fit(train_data, epochs=200, validation_data=valid_data, callbacks=[model_cbk, model_esp])"
   ]
  },
  {
   "cell_type": "markdown",
   "metadata": {},
   "source": [
    "## Model 2"
   ]
  },
  {
   "cell_type": "code",
   "execution_count": null,
   "metadata": {},
   "outputs": [],
   "source": [
    "log_dir = os.path.join('lab9-logs', 'model-2')\n",
    "model_cbk = keras.callbacks.TensorBoard(log_dir=log_dir)\n",
    "model_esp = keras.callbacks.EarlyStopping(monitor='val_binary_accuracy', patience=30, mode='max')\n",
    "\n",
    "module_url = 'https://tfhub.dev/google.tf2-preview/inception_v3/feature_vector/2'\n",
    "\n",
    "model_2 = tf.keras.Sequential([hub.KerasLayer(module_url,\n",
    "                                              input_shape=(299, 299, 3),\n",
    "                                              output_shape=(2048,),\n",
    "                                              trainable=False),\n",
    "                               layers.Dense(128, activation='relu'),\n",
    "                               layers.Dense(1, activation='sigmoid')])"
   ]
  },
  {
   "cell_type": "code",
   "execution_count": null,
   "metadata": {},
   "outputs": [],
   "source": [
    "model_2.summary()"
   ]
  },
  {
   "cell_type": "code",
   "execution_count": null,
   "metadata": {},
   "outputs": [],
   "source": [
    "model_2.compile(keras.optimizers.Adam(), loss=keras.losses.BinaryCrossentropy(), metrics=[keras.metrics.BinaryAccuracy()])\n",
    "\n",
    "history = model_2.fit(train_data, epochs=200, validation_data=valid_data, callbacks=[model_cbk, model_esp])"
   ]
  },
  {
   "cell_type": "code",
   "execution_count": null,
   "metadata": {},
   "outputs": [],
   "source": []
  }
 ],
 "metadata": {
  "kernelspec": {
   "display_name": "tf2",
   "language": "python",
   "name": "tf2"
  },
  "language_info": {
   "codemirror_mode": {
    "name": "ipython",
    "version": 3
   },
   "file_extension": ".py",
   "mimetype": "text/x-python",
   "name": "python",
   "nbconvert_exporter": "python",
   "pygments_lexer": "ipython3",
   "version": "3.6.5"
  }
 },
 "nbformat": 4,
 "nbformat_minor": 4
}
