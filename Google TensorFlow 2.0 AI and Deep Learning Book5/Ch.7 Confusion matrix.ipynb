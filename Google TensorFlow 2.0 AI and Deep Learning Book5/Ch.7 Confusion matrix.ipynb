{
 "cells": [
  {
   "cell_type": "code",
   "execution_count": 2,
   "metadata": {},
   "outputs": [],
   "source": [
    "import warnings\n",
    "warnings.simplefilter(action='ignore', category=FutureWarning)\n",
    "import os\n",
    "import io\n",
    "import numpy as np\n",
    "import tensorflow as tf\n",
    "import tensorflow_datasets as tfds\n",
    "import matplotlib.pyplot as plt\n",
    "from tensorflow import keras\n",
    "from tensorflow.keras import layers\n",
    "from preprocessing import parse_aug_fn, parse_fn"
   ]
  },
  {
   "cell_type": "code",
   "execution_count": 3,
   "metadata": {},
   "outputs": [
    {
     "name": "stdout",
     "output_type": "stream",
     "text": [
      "[[2 0 0]\n",
      " [0 2 1]\n",
      " [1 0 2]]\n"
     ]
    }
   ],
   "source": [
    "y_true = [2, 1, 0, 2, 2, 0, 1, 1]\n",
    "y_pred = [0, 1, 0, 2, 2, 0, 2, 1]\n",
    "cm = tf.math.confusion_matrix(y_true, y_pred, num_classes=3).numpy()\n",
    "print(cm)"
   ]
  },
  {
   "cell_type": "code",
   "execution_count": 4,
   "metadata": {},
   "outputs": [],
   "source": [
    "def plot_confusion_matrix(cm, class_names):\n",
    "    cm = np.around(cm.astype('float') / cm.sum(axis=1)[:, np.newaxis], decimals=2)\n",
    "    \n",
    "    figure = plt.figure(figsize=(8, 8))\n",
    "    plt.imshow(cm, interpolation='nearest', cmap=plt.cm.Blues)\n",
    "    plt.title('Confusion matrix')\n",
    "    tick_index = np.arange(len(class_names))\n",
    "    plt.yticks(tick_index, class_names)\n",
    "    plt.xticks(tick_index, class_names, rotation=45)\n",
    "    plt.colorbar()\n",
    "    \n",
    "    threshold = cm.max() / 2.\n",
    "    for i in range(cm.shape[0]):\n",
    "        for j in range(cm.shape[1]):\n",
    "            color = 'white' if cm[i, j] > threshold else 'black'\n",
    "            plt.text(j, i, cm[i, j], horizontalalignment='center', color=color)\n",
    "    plt.ylabel('True label')\n",
    "    plt.xlabel('Predicted label')\n",
    "    plt.tight_layout()\n",
    "    return figure"
   ]
  },
  {
   "cell_type": "code",
   "execution_count": 8,
   "metadata": {},
   "outputs": [
    {
     "data": {
      "image/png": "[encoded data removed]",
      "text/plain": [
       "<Figure size 576x576 with 2 Axes>"
      ]
     },
     "metadata": {
      "needs_background": "light"
     },
     "output_type": "display_data"
    }
   ],
   "source": [
    "img = plot_confusion_matrix(cm, [0, 1, 2])"
   ]
  },
  {
   "cell_type": "code",
   "execution_count": 9,
   "metadata": {},
   "outputs": [],
   "source": [
    "def plot_to_image(figure):\n",
    "    buf = io.BytesIO()\n",
    "    plt.savefig(buf, format='png')\n",
    "    plt.close(figure)\n",
    "    buf.seek(0)\n",
    "    image = tf.image.decode_png(buf.getvalue(), channels=4)\n",
    "    image = tf.expand_dims(image, 0)\n",
    "    return image"
   ]
  },
  {
   "cell_type": "code",
   "execution_count": null,
   "metadata": {},
   "outputs": [],
   "source": [
    "class ConfusionMatrix(tf.keras.callbacks.Callback):\n",
    "    def __init__(self, log_dir, test_data, class_name):\n",
    "        super(ConfusionMatrix, self).__init__()\n",
    "        self.log_dir = log_dir\n",
    "        self.test_data = test_data\n",
    "        self.class_names = class_name\n",
    "        self.num_classes = len(class_name)\n",
    "    \n",
    "    def on_train_begin(self, logs=None):\n",
    "        path = os.path.join(self.log_dir, 'confusion_matrix')\n",
    "        self.writer = tf.summary.create_file_writer(path)\n",
    "    \n",
    "    def on_epoch_end(self, epoch, logs=None):\n",
    "        total_cm = np.zeros([10, 10])\n",
    "        for x, y_true in self.test_data:\n",
    "            y_pred = self.model.predict(x)\n",
    "            y_pred = np.argmax(y_pred, axis=1)\n",
    "            y_true = np.argmax(y_true, axis=1)\n",
    "            cm = tf.math.confusion_matrix(y_true, y_pred, num_classes=self.num_classes).numpy()\n",
    "            total_cm += cm\n",
    "        figure = plot_confusion_matrix(total_cm, class_names=self.class_names)\n",
    "        cm_image = plot_to_image(figure)\n",
    "        \n",
    "        with self.writer.as_default():\n",
    "            tf.summary.image('Confusion Matrix', cm_image, step=epoch)"
   ]
  }
 ],
 "metadata": {
  "kernelspec": {
   "display_name": "tf2",
   "language": "python",
   "name": "tf2"
  },
  "language_info": {
   "codemirror_mode": {
    "name": "ipython",
    "version": 3
   },
   "file_extension": ".py",
   "mimetype": "text/x-python",
   "name": "python",
   "nbconvert_exporter": "python",
   "pygments_lexer": "ipython3",
   "version": "3.6.5"
  }
 },
 "nbformat": 4,
 "nbformat_minor": 4
}
